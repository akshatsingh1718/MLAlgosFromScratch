{
 "cells": [
  {
   "cell_type": "markdown",
   "metadata": {
    "cell_style": "center"
   },
   "source": [
    "# Linear Regression from scratch"
   ]
  },
  {
   "cell_type": "markdown",
   "metadata": {},
   "source": [
    "Linear regression is perhaps one of the most well known and well understood algorithms in statistics and machine learning.\n",
    "Linear regression is a linear model, e.g. a model that assumes a linear relationship between the input variables (x) and the single output variable (y). More specifically, that y can be calculated from a linear combination of the input variables (x). When there is a single input variable (x), the method is referred to as simple linear regression.\n",
    "\n",
    "<img src='https://miro.medium.com/max/2584/0*Y_wKuvGOCaoUQKeJ.png' width='500px'/>\n",
    "\n",
    "Formula for linear regression is given below many of us may have seen this formula in out high school:\n",
    "<img src='https://www.elevise.co.uk/uploads/9/8/0/2/98021560/published/screen-shot-2018-10-28-at-18-09-29_6.png' width='300px' />"
   ]
  },
  {
   "cell_type": "markdown",
   "metadata": {},
   "source": [
    "## Hypothesis\n",
    "We need to define what our hypothesis looks like for linear regression as this we will use later for cost function.\n",
    "\n",
    "<code>hθ(x) = θ0 + θ1x1 + θ2x2 + θ3x3 +…..+ θnxn</code>"
   ]
  },
  {
   "cell_type": "code",
   "execution_count": 1,
   "metadata": {
    "ExecuteTime": {
     "end_time": "2021-05-16T17:37:11.100777Z",
     "start_time": "2021-05-16T17:37:11.095548Z"
    }
   },
   "outputs": [],
   "source": [
    "import numpy as np\n",
    "\n",
    "\n",
    "def h(X, theta):\n",
    "    return np.dot(X, theta)"
   ]
  },
  {
   "cell_type": "markdown",
   "metadata": {},
   "source": [
    "## Cost function\n",
    "- Functions have parameters/weights (represented by theta in our notion) and we want to find best value for them. To start with we pick random values and we need to measure how well the algorithm performs using those random weights. \n",
    "- We need to find that how well our model is performing which will be calculated by cost function many people also call this loss function.\n",
    "- We need to minimize our cost function.\n",
    "\n",
    "<table width=100%>\n",
    "    <tr>\n",
    "        <td>\n",
    "            <img src='https://media.geeksforgeeks.org/wp-content/uploads/LR-cost-function-1.jpg' />\n",
    "        </td>\n",
    "        <td>\n",
    "            <img src='https://media.geeksforgeeks.org/wp-content/uploads/LR-cost-function-2.jpg' />\n",
    "        </td>\n",
    "    </tr>\n",
    "</table>"
   ]
  },
  {
   "cell_type": "code",
   "execution_count": 80,
   "metadata": {
    "ExecuteTime": {
     "end_time": "2021-05-16T16:50:39.659956Z",
     "start_time": "2021-05-16T16:50:39.654641Z"
    }
   },
   "outputs": [],
   "source": [
    "def loss_mse(h, y):\n",
    "    '''\n",
    "    Loss is Mean Squared Error\n",
    "    '''\n",
    "    return np.sum(np.power(h - y, 2)) / (2 * y.shape[0])"
   ]
  },
  {
   "cell_type": "markdown",
   "metadata": {},
   "source": [
    "## Gradient Descent\n",
    "\n",
    "Gradient descent in our context is an optimization algorithm that aims to adjust the parameters in order to minimize the cost function.\n",
    "\n",
    "<img src='https://media.geeksforgeeks.org/wp-content/uploads/Cost-Function.jpg' width='500px'/>\n",
    "\n",
    "We multiply derivative of the cost function with learning rate and subtract it from the current value of (θ) to get the new updated parameters(θ).\n",
    "<code>\n",
    "lr = 0.1              \n",
    "theta -= lr * gradient\n",
    "</code>"
   ]
  },
  {
   "cell_type": "code",
   "execution_count": 79,
   "metadata": {
    "ExecuteTime": {
     "end_time": "2021-05-16T16:50:20.382456Z",
     "start_time": "2021-05-16T16:50:20.374375Z"
    }
   },
   "outputs": [],
   "source": [
    "def loss_mse(y, y_hat):\n",
    "    return ((y_hat - y).T @ (y_hat - y)) / (2 * y.shape[0])\n",
    "\n",
    "\n",
    "def gradient_descent(X, y, epochs, theta, iterations, alpha):\n",
    "    m = y.size #No. of data points\n",
    "    past_costs = []\n",
    "    past_thetas = [theta]\n",
    "    for i in range(epochs):\n",
    "        prediction = np.dot(X, theta)\n",
    "        error = prediction - y\n",
    "        cost = self.__loss_mse(y, prediction)\n",
    "        past_costs.append(cost)\n",
    "        theta = theta - (alpha * self.__loss_mse_derevative(X, error))\n",
    "        past_thetas.append(theta)\n",
    "        if self.verbose and i % 10 == 0:\n",
    "            print(f'Epoch: {i}; Loss: {cost}')\n",
    "\n",
    "    return past_thetas, past_costs"
   ]
  },
  {
   "cell_type": "markdown",
   "metadata": {},
   "source": [
    "Here loss_mse_derivative as the name suggest returns gradients vector of cost function and gradient_descent function updates our weights vector, it returns theta and J_all. J_all is not exactly essential for us but helps us to analyze model better"
   ]
  },
  {
   "cell_type": "markdown",
   "metadata": {},
   "source": [
    "## Accuracy\n",
    "\n",
    "For measuring accuracy we are using <b>R Square</b>. In statistics, the coefficient of determination, denoted R² or r² and pronounced <i>\"R squared</i>\", is the proportion of the variance in the dependent variable that is predictable from the independent variable. R squared will give us value between 0-1 which we can use to measure how good our regressor is doing, below is the formula of R Squared:\n",
    "\n",
    "<img src='https://miro.medium.com/max/2812/1*_HbrAW-tMRBli6ASD5Bttw.png' width='400px'/>"
   ]
  },
  {
   "cell_type": "markdown",
   "metadata": {},
   "source": [
    "## Putting it all together"
   ]
  },
  {
   "cell_type": "code",
   "execution_count": 57,
   "metadata": {
    "ExecuteTime": {
     "end_time": "2021-05-16T18:09:15.763882Z",
     "start_time": "2021-05-16T18:09:15.747021Z"
    }
   },
   "outputs": [],
   "source": [
    "class LinearRegressionScratch():\n",
    "    def __init__(self, lr=0.1, epochs=30, fit_intercept=True, verbose=False):\n",
    "        self.lr = lr\n",
    "        self.epochs = epochs\n",
    "        self.fit_intercept = fit_intercept\n",
    "        self.verbose = verbose\n",
    "\n",
    "    def __add_intercept(self, X):\n",
    "        intercept = np.ones((X.shape[0], 1))\n",
    "        return np.concatenate((intercept, X), axis=1)\n",
    "\n",
    "    def __loss_mse(self, y, y_hat):\n",
    "        return ((y_hat - y).T @ (y_hat - y)) / (2 * y.shape[0])\n",
    "\n",
    "    def __loss_mse_derevative(self, X, error):\n",
    "        m = X.shape[0]\n",
    "        return (1 / m) * (X.T @ (error))\n",
    "\n",
    "    def __h(self, X):\n",
    "        return np.dot(X, self.theta)\n",
    "\n",
    "    \n",
    "    def __gradient_descent(self, X, y, theta):\n",
    "        m = y.size #No. of data points\n",
    "        past_costs = []\n",
    "        past_thetas = [theta]\n",
    "        for i in range(self.epochs):\n",
    "            prediction = np.dot(X, theta)\n",
    "            error = prediction - y\n",
    "            cost = self.__loss_mse(y, prediction)\n",
    "            past_costs.append(cost)\n",
    "            theta = theta - (self.lr * self.__loss_mse_derevative(X, error))\n",
    "            past_thetas.append(theta)\n",
    "            if self.verbose and i % 10 == 0:\n",
    "                print(f'Epoch: {i}; Loss: {cost}')\n",
    "\n",
    "        return past_thetas, past_costs\n",
    "\n",
    "\n",
    "    def fit(self, X, y):\n",
    "        if self.fit_intercept:\n",
    "            X = self.__add_intercept(X)\n",
    "\n",
    "        self.theta = np.zeros(X.shape[1])\n",
    "        all_thetas, all_costs = self.__gradient_descent(X, y, self.theta)\n",
    "\n",
    "        # assign the newest theta to the class attribute theta\n",
    "        self.theta = all_thetas[-1]\n",
    "        self.all_costs = all_costs\n",
    "\n",
    "    def predict(self, X):\n",
    "        if self.fit_intercept:\n",
    "            X = self.__add_intercept(X)\n",
    "        return self.__h(X)\n",
    "    \n",
    "    \n",
    "    def accuracy(self, X, y):\n",
    "        y_hat = self.predict(X)\n",
    "        return (1 - (np.sum((y-y_hat)**2)/np.sum((y-np.mean(y))**2)))"
   ]
  },
  {
   "cell_type": "markdown",
   "metadata": {},
   "source": [
    "## Loading data and Model Fitting"
   ]
  },
  {
   "cell_type": "code",
   "execution_count": 58,
   "metadata": {
    "ExecuteTime": {
     "end_time": "2021-05-16T18:09:16.873564Z",
     "start_time": "2021-05-16T18:09:16.852912Z"
    }
   },
   "outputs": [
    {
     "name": "stdout",
     "output_type": "stream",
     "text": [
      "Epoch: 0; Loss: 2449.7632164355014\n",
      "Epoch: 10; Loss: 284.2532603709194\n",
      "Epoch: 20; Loss: 33.30277615450503\n",
      "Epoch: 30; Loss: 3.943202600339762\n",
      "Epoch: 40; Loss: 0.4722740863654541\n",
      "Epoch: 50; Loss: 0.05726088475831991\n",
      "Epoch: 60; Loss: 0.0070326451213460015\n",
      "Epoch: 70; Loss: 0.0008753179793492357\n",
      "Epoch: 80; Loss: 0.0001104289296718514\n",
      "Epoch: 90; Loss: 1.412005440708255e-05\n"
     ]
    }
   ],
   "source": [
    "from sklearn.model_selection import train_test_split\n",
    "from sklearn.datasets import make_regression\n",
    "X, y = make_regression(n_samples=1000, n_features=2)\n",
    "\n",
    "X_train, X_test, y_train, y_test = train_test_split(X,\n",
    "                                                    y,\n",
    "                                                    test_size=0.25,\n",
    "                                                    random_state=42)\n",
    "lr = LinearRegressionScratch(epochs=100, verbose=True)\n",
    "lr.fit(X_train, y_train)"
   ]
  },
  {
   "cell_type": "markdown",
   "metadata": {},
   "source": [
    "## Prediction and Accuracy"
   ]
  },
  {
   "cell_type": "code",
   "execution_count": 59,
   "metadata": {
    "ExecuteTime": {
     "end_time": "2021-05-16T18:09:19.227903Z",
     "start_time": "2021-05-16T18:09:19.220425Z"
    }
   },
   "outputs": [
    {
     "name": "stdout",
     "output_type": "stream",
     "text": [
      "Accuracu of our model is 0.9999999992185905\n"
     ]
    }
   ],
   "source": [
    "accuracy = lr.accuracy(X_test, y_test)\n",
    "print(f'Accuracu of our model is {accuracy}')"
   ]
  },
  {
   "cell_type": "markdown",
   "metadata": {},
   "source": [
    "## Loss function graph"
   ]
  },
  {
   "cell_type": "code",
   "execution_count": 49,
   "metadata": {
    "ExecuteTime": {
     "end_time": "2021-05-16T17:58:06.218133Z",
     "start_time": "2021-05-16T17:58:06.108197Z"
    }
   },
   "outputs": [
    {
     "data": {
      "image/png": "[encoded data removed]",
      "text/plain": [
       "<Figure size 432x288 with 1 Axes>"
      ]
     },
     "metadata": {
      "needs_background": "light"
     },
     "output_type": "display_data"
    }
   ],
   "source": [
    "import matplotlib.pyplot as plt\n",
    "#Plot the cost function...\n",
    "plt.title('Cost Function J')\n",
    "plt.xlabel('No. of iterations')\n",
    "plt.ylabel('Cost')\n",
    "plt.plot(lr.all_costs, 'ro-')\n",
    "plt.show()"
   ]
  }
 ],
 "metadata": {
  "kernelspec": {
   "display_name": "Python 3",
   "language": "python",
   "name": "python3"
  },
  "language_info": {
   "codemirror_mode": {
    "name": "ipython",
    "version": 3
   },
   "file_extension": ".py",
   "mimetype": "text/x-python",
   "name": "python",
   "nbconvert_exporter": "python",
   "pygments_lexer": "ipython3",
   "version": "3.8.5"
  },
  "toc": {
   "base_numbering": 1,
   "nav_menu": {
    "height": "105px",
    "width": "378.75px"
   },
   "number_sections": true,
   "sideBar": true,
   "skip_h1_title": false,
   "title_cell": "Table of Contents",
   "title_sidebar": "Contents",
   "toc_cell": false,
   "toc_position": {
    "height": "calc(100% - 180px)",
    "left": "10px",
    "top": "150px",
    "width": "213.304px"
   },
   "toc_section_display": true,
   "toc_window_display": false
  },
  "varInspector": {
   "cols": {
    "lenName": 16,
    "lenType": 16,
    "lenVar": 40
   },
   "kernels_config": {
    "python": {
     "delete_cmd_postfix": "",
     "delete_cmd_prefix": "del ",
     "library": "var_list.py",
     "varRefreshCmd": "print(var_dic_list())"
    },
    "r": {
     "delete_cmd_postfix": ") ",
     "delete_cmd_prefix": "rm(",
     "library": "var_list.r",
     "varRefreshCmd": "cat(var_dic_list()) "
    }
   },
   "oldHeight": 122.85739199999999,
   "position": {
    "height": "144.844px",
    "left": "394.429px",
    "right": "20px",
    "top": "236px",
    "width": "350px"
   },
   "types_to_exclude": [
    "module",
    "function",
    "builtin_function_or_method",
    "instance",
    "_Feature"
   ],
   "varInspector_section_display": "block",
   "window_display": false
  }
 },
 "nbformat": 4,
 "nbformat_minor": 4
}
