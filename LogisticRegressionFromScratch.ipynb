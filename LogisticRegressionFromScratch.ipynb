{
 "cells": [
  {
   "cell_type": "markdown",
   "metadata": {},
   "source": [
    "# Logistic Regression from scratch"
   ]
  },
  {
   "cell_type": "markdown",
   "metadata": {},
   "source": [
    "Given a set of inputs X, we want to assign them to one of two possible categories (0 or 1). Logistic regression models the probability that each input belongs to a particular category.\n",
    "<img src='https://miro.medium.com/max/612/1*3e5CuJXlr4UkYXMaTXe4DA.png' alt='logestic regression' height='300px' width='500px'/>"
   ]
  },
  {
   "cell_type": "markdown",
   "metadata": {},
   "source": [
    "## Hypothesis\n",
    "A function which takes inputs (Weights W and X) and returns probability(0 or 1). There are many functions that meet this description, but in this case i am using <b><i>Logistic Function</i></b> or <b><i>Sigmoid Function</i></b>.\n",
    "\n",
    "<table>\n",
    "    <tr>\n",
    "        <td>\n",
    "            <img src='https://www.researchgate.net/profile/Tali-Leibovich-Raveh/publication/325868989/figure/fig2/AS:639475206074368@1529474178211/A-Basic-sigmoid-function-with-two-parameters-c1-and-c2-as-commonly-used-for-subitizing.png' alt='sigmoid graph'/>\n",
    "        </td>\n",
    "        <td>\n",
    "            <img src='https://miro.medium.com/max/292/1*p4hYc2VwJqoLWwl_mV0Vjw.png' alt='sigmoid formula'/>\n",
    "        </td>\n",
    "    </tr>\n",
    "</table>"
   ]
  },
  {
   "cell_type": "code",
   "execution_count": 1,
   "metadata": {},
   "outputs": [],
   "source": [
    "import numpy as np\n",
    "\n",
    "def sigmoid(z):\n",
    "    return 1 / ( 1+np.exp(-z) )"
   ]
  },
  {
   "cell_type": "markdown",
   "metadata": {},
   "source": [
    "## Loss Function\n",
    "Functions have parameters/weights (represented by theta in our notion) and we want to find best value for them. To start with we pick random values and we need to measure how well the algorithm performs using those random weights. That measure is computed using the loss function, here we are using log loss for calculating loss.\n",
    "\n",
    "<img src='https://miro.medium.com/max/700/1*FdxEs8Iv_43Q8calTCjnow.png' />"
   ]
  },
  {
   "cell_type": "code",
   "execution_count": 2,
   "metadata": {},
   "outputs": [],
   "source": [
    "def log_loss(h, y):\n",
    "    return (-y*np.log(h) - (1-y) * np.log(1-h)).mean()"
   ]
  },
  {
   "cell_type": "markdown",
   "metadata": {},
   "source": [
    "## Gradient Descent\n",
    "Our goal is to minimize the loss function and the way we can do is by increasing or descreasing weights, But how do we know what parameters should be bigger or smaller? The way we can achieve this is by calculating derevative of loss function with respect to each weight.\n",
    "\n",
    "<img src='https://miro.medium.com/max/536/1*gobKgGbRWDAoVFAan_HjxQ.png' alt='Gradient descent' />\n",
    "\n",
    "<code>gradient = np.dot(X.T, (h-y))/y.shape[0]</code>\n",
    "\n",
    "Then we update the weights by subtracting to them the derevative times the learning rate. Learning rate is a hyperparameter which means we have to choose the value of learning rate, genrally learning rate is 0.1 and decrease it over iterations for better results.\n",
    "<code>\n",
    "lr = 0.1              \n",
    "theta -= lr * gradient\n",
    "</code>"
   ]
  },
  {
   "cell_type": "markdown",
   "metadata": {},
   "source": [
    "## Predictions\n",
    "By calling sigmoid function we will get probability of positive class ranging between 0-1 and probability of negative class will be 1 - Probability(positive_clas). We will create 2 function:\n",
    "- predict_proba: function will return probability of positive or true class\n",
    "- predict: function will return predicted class label"
   ]
  },
  {
   "cell_type": "code",
   "execution_count": 3,
   "metadata": {},
   "outputs": [],
   "source": [
    "def predict_proba(X, theta):\n",
    "    z = np.dot(X, theta)\n",
    "    return sigmoid(z)\n",
    "\n",
    "def predict(X, theta, threshold=.5):\n",
    "    z = np.dot(X, theta)\n",
    "    return sigmoid(z) >= threshold"
   ]
  },
  {
   "cell_type": "markdown",
   "metadata": {},
   "source": [
    "## Putting all in together"
   ]
  },
  {
   "cell_type": "code",
   "execution_count": 16,
   "metadata": {},
   "outputs": [],
   "source": [
    "class LogisticRegression():\n",
    "    def __init__(self, lr=0.01, num_iter=100000, fit_intercept=True, verbose=False):\n",
    "        self.lr = lr\n",
    "        self.num_iter = num_iter\n",
    "        self.fit_intercept = fit_intercept\n",
    "        self.verbose = verbose\n",
    "        \n",
    "        \n",
    "    def __add_intercept(self, X):\n",
    "        intercept = np.ones((X.shape[0], 1))\n",
    "        return np.concatenate((intercept, X), axis=1)\n",
    "    \n",
    "    \n",
    "    def __sigmoid(self, z):\n",
    "        return 1/(1+np.exp(-z))\n",
    "    \n",
    "    \n",
    "    def __loss(self, h, y):\n",
    "        return (-y * np.log(h) - (1-y) * np.log(1-h)).mean()\n",
    "    \n",
    "    \n",
    "    def fit(self, X, y):\n",
    "        if self.fit_intercept:\n",
    "            X = self.__add_intercept(X)\n",
    "        \n",
    "        # weights initialization\n",
    "        self.theta = np.zeros(X.shape[1])\n",
    "        \n",
    "        for i in range(self.num_iter):\n",
    "            z = np.dot(X, self.theta)\n",
    "            h = self.__sigmoid(z)\n",
    "            \n",
    "            gradient = np.dot(X.T, (h-y))/y.size\n",
    "            self.theta -= self.lr * gradient\n",
    "            \n",
    "            if (self.verbose == True and i%10000==0):\n",
    "                z = np.dot(X, self.theta)\n",
    "                h = self.__sigmoid(z)\n",
    "                print(f'loss: {self.__loss(h, y)} \\t')\n",
    "        \n",
    "        \n",
    "    def predict_proba(self, X):\n",
    "        if self.fit_intercept:\n",
    "            X = self.__add_intercept(X)\n",
    "            \n",
    "        return self.__sigmoid(np.dot(X, self.theta))\n",
    "    \n",
    "    \n",
    "    def predict(self, X, threshold=0.5):\n",
    "        return self.predict_proba(X) >= threshold"
   ]
  },
  {
   "cell_type": "markdown",
   "metadata": {},
   "source": [
    "## Loading Model, splittng training and testing data"
   ]
  },
  {
   "cell_type": "code",
   "execution_count": 1,
   "metadata": {},
   "outputs": [],
   "source": [
    "import sklearn.datasets as ds\n",
    "from sklearn.preprocessing import StandardScaler\n",
    "from sklearn.model_selection import train_test_split\n",
    "# loading data\n",
    "iris = ds.load_iris()\n",
    "X = iris.data[:, :2]\n",
    "y = (iris.target != 0) * 1\n",
    "\n",
    "# Splitting Data\n",
    "X_train, X_test, y_train, y_test = train_test_split(X, y, test_size=0.25, random_state=42)"
   ]
  },
  {
   "cell_type": "markdown",
   "metadata": {},
   "source": [
    "## Model Training"
   ]
  },
  {
   "cell_type": "code",
   "execution_count": 90,
   "metadata": {},
   "outputs": [
    {
     "name": "stdout",
     "output_type": "stream",
     "text": [
      "loss: 0.5950720206435113 \t\n",
      "loss: 0.041235466570876955 \t\n",
      "loss: 0.03466757002499189 \t\n",
      "loss: 0.03055047207369838 \t\n",
      "loss: 0.027371617845330088 \t\n",
      "loss: 0.024795622176189414 \t\n",
      "loss: 0.022671433690586495 \t\n",
      "loss: 0.02090008968265174 \t\n",
      "loss: 0.01940746106731971 \t\n",
      "loss: 0.018136349033027292 \t\n",
      "loss: 0.017042542478847712 \t\n",
      "loss: 0.016091900989575574 \t\n",
      "loss: 0.015258000585882841 \t\n",
      "loss: 0.014520273177734296 \t\n",
      "loss: 0.013862580255518148 \t\n",
      "loss: 0.013272141083861726 \t\n",
      "loss: 0.012738734774177297 \t\n",
      "loss: 0.012254107271248848 \t\n",
      "loss: 0.01181152922556944 \t\n",
      "loss: 0.011405464331931988 \t\n",
      "loss: 0.011031318587455716 \t\n",
      "loss: 0.010685249083755574 \t\n",
      "loss: 0.01036401688814185 \t\n",
      "loss: 0.010064872830848868 \t\n",
      "loss: 0.009785468058472732 \t\n",
      "loss: 0.009523783388055648 \t\n",
      "loss: 0.009278073055827103 \t\n",
      "loss: 0.00904681957989269 \t\n",
      "loss: 0.00882869727380669 \t\n",
      "loss: 0.008622542546616905 \t\n",
      "CPU times: user 5.91 s, sys: 11.2 ms, total: 5.92 s\n",
      "Wall time: 5.9 s\n"
     ]
    }
   ],
   "source": [
    "model = LogisticRegression(lr=0.1, num_iter=300000, verbose=True)\n",
    "%time model.fit(X_train, y_train)"
   ]
  },
  {
   "cell_type": "markdown",
   "metadata": {},
   "source": [
    "## Accuracy of Model"
   ]
  },
  {
   "cell_type": "code",
   "execution_count": 97,
   "metadata": {},
   "outputs": [
    {
     "name": "stdout",
     "output_type": "stream",
     "text": [
      "Accuracy : 1.0\n"
     ]
    }
   ],
   "source": [
    "from sklearn.metrics import accuracy_score\n",
    "preds = model.predict(X_test)\n",
    "print(f'Accuracy : {accuracy_score(preds,y_test).mean()}')"
   ]
  },
  {
   "cell_type": "markdown",
   "metadata": {},
   "source": [
    "## Decision boundary\n",
    "\n",
    "<img src='https://miro.medium.com/max/598/1*8uuWQtF0IHHUp6Ds3znL5Q.png' alt='decision boundary'/>"
   ]
  },
  {
   "cell_type": "markdown",
   "metadata": {},
   "source": [
    "## Model weights and Biases"
   ]
  },
  {
   "cell_type": "code",
   "execution_count": 92,
   "metadata": {},
   "outputs": [
    {
     "data": {
      "text/plain": [
       "array([-28.72625499,  12.9364861 , -13.09090682])"
      ]
     },
     "execution_count": 92,
     "metadata": {},
     "output_type": "execute_result"
    }
   ],
   "source": [
    "# Out weights and biases\n",
    "model.theta"
   ]
  },
  {
   "cell_type": "markdown",
   "metadata": {},
   "source": [
    "## Plotting decision boundary"
   ]
  },
  {
   "cell_type": "code",
   "execution_count": 95,
   "metadata": {},
   "outputs": [
    {
     "data": {
      "image/png": "[encoded data removed]",
      "text/plain": [
       "<Figure size 720x432 with 1 Axes>"
      ]
     },
     "metadata": {},
     "output_type": "display_data"
    }
   ],
   "source": [
    "import matplotlib.pyplot as plt\n",
    "\n",
    "# reference for plotting: https://stackoverflow.com/a/48022752/13028501\n",
    "inputs = X_test\n",
    "targets = y_test\n",
    "weights = model.theta\n",
    "plt.figure(figsize=(10,6))\n",
    "plt.grid(True)\n",
    "\n",
    "for input,target in zip(inputs,targets):\n",
    "    plt.plot(input[0],input[1],'ro' if (target == 1.0) else 'bo')\n",
    "# Here i am calculating slope and intercept with given three weights\n",
    "for i in np.linspace(np.amin(inputs[:,:1]),np.amax(inputs[:,:1])):\n",
    "    slope = -(weights[0]/weights[2])/(weights[0]/weights[1])  \n",
    "    intercept = -weights[0]/weights[2]\n",
    "\n",
    "    #y =mx+c, m is slope and c is intercept\n",
    "    _y = (slope*i) + intercept\n",
    "    plt.plot(i, _y,'g-o')\n",
    "\n",
    "plt.show();"
   ]
  },
  {
   "cell_type": "markdown",
   "metadata": {},
   "source": [
    "## Comparing with sklearn's LogisticRegression"
   ]
  },
  {
   "cell_type": "code",
   "execution_count": 102,
   "metadata": {},
   "outputs": [
    {
     "name": "stdout",
     "output_type": "stream",
     "text": [
      "CPU times: user 19.6 ms, sys: 93 µs, total: 19.7 ms\n",
      "Wall time: 17.1 ms\n"
     ]
    },
    {
     "data": {
      "text/plain": [
       "LogisticRegression(random_state=42)"
      ]
     },
     "execution_count": 102,
     "metadata": {},
     "output_type": "execute_result"
    }
   ],
   "source": [
    "from sklearn.linear_model import LogisticRegression\n",
    "\n",
    "clf = LogisticRegression(random_state=42)\n",
    "%time clf.fit(X_train, y_train)"
   ]
  },
  {
   "cell_type": "markdown",
   "metadata": {},
   "source": [
    "## Accuracy of Sklern's LogisticRegression"
   ]
  },
  {
   "cell_type": "code",
   "execution_count": 104,
   "metadata": {},
   "outputs": [
    {
     "name": "stdout",
     "output_type": "stream",
     "text": [
      "Sklearn LogisticRegression: 1.0\n"
     ]
    }
   ],
   "source": [
    "y_pred = clf.predict(X_test)\n",
    "print(f'Sklearn LogisticRegression: {accuracy_score(y_pred, y_test)}')"
   ]
  }
 ],
 "metadata": {
  "kernelspec": {
   "display_name": "Python 3",
   "language": "python",
   "name": "python3"
  },
  "language_info": {
   "codemirror_mode": {
    "name": "ipython",
    "version": 3
   },
   "file_extension": ".py",
   "mimetype": "text/x-python",
   "name": "python",
   "nbconvert_exporter": "python",
   "pygments_lexer": "ipython3",
   "version": "3.8.5"
  },
  "toc": {
   "base_numbering": 1,
   "nav_menu": {},
   "number_sections": true,
   "sideBar": true,
   "skip_h1_title": false,
   "title_cell": "Table of Contents",
   "title_sidebar": "Contents",
   "toc_cell": false,
   "toc_position": {},
   "toc_section_display": true,
   "toc_window_display": false
  },
  "varInspector": {
   "cols": {
    "lenName": 16,
    "lenType": 16,
    "lenVar": 40
   },
   "kernels_config": {
    "python": {
     "delete_cmd_postfix": "",
     "delete_cmd_prefix": "del ",
     "library": "var_list.py",
     "varRefreshCmd": "print(var_dic_list())"
    },
    "r": {
     "delete_cmd_postfix": ") ",
     "delete_cmd_prefix": "rm(",
     "library": "var_list.r",
     "varRefreshCmd": "cat(var_dic_list()) "
    }
   },
   "types_to_exclude": [
    "module",
    "function",
    "builtin_function_or_method",
    "instance",
    "_Feature"
   ],
   "window_display": false
  }
 },
 "nbformat": 4,
 "nbformat_minor": 4
}
